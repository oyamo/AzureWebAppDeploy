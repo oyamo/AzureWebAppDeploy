{
  "nbformat": 4,
  "nbformat_minor": 0,
  "metadata": {
    "colab": {
      "provenance": [],
      "authorship_tag": "ABX9TyOVcNo4qNR3iSrT2A34wvky",
      "include_colab_link": true
    },
    "kernelspec": {
      "name": "python3",
      "display_name": "Python 3"
    },
    "language_info": {
      "name": "python"
    }
  },
  "cells": [
    {
      "cell_type": "markdown",
      "metadata": {
        "id": "view-in-github",
        "colab_type": "text"
      },
      "source": [
        "<a href=\"https://colab.research.google.com/github/oyamo/AzureWebAppDeploy/blob/master/Practical.ipynb\" target=\"_parent\"><img src=\"https://colab.research.google.com/assets/colab-badge.svg\" alt=\"Open In Colab\"/></a>"
      ]
    },
    {
      "cell_type": "markdown",
      "source": [
        "# Data Analysis Using python\n",
        "The following notebook is used to import data from a postgress Database for an online retail data analysis"
      ],
      "metadata": {
        "id": "zbGYUppPF-Z5"
      }
    },
    {
      "cell_type": "markdown",
      "source": [
        "## Import Libraries"
      ],
      "metadata": {
        "id": "2G9vhz_pGgkg"
      }
    },
    {
      "cell_type": "code",
      "source": [
        "import pandas as pd\n",
        "from sqlalchemy import create_engine\n",
        "import numpy as np\n",
        "import psycopg2"
      ],
      "metadata": {
        "id": "b635spM_GeID"
      },
      "execution_count": null,
      "outputs": []
    },
    {
      "cell_type": "markdown",
      "source": [
        "## Import data from Postres"
      ],
      "metadata": {
        "id": "PU1aMNPcHazH"
      }
    },
    {
      "cell_type": "code",
      "source": [
        "engine = create_engine('postgresql+psycopg2://test:@127.0.0.1', pool_recycle=3600);\n",
        "conn    = alchemyEngine.connect();"
      ],
      "metadata": {
        "id": "gl7ex5WqHf_h"
      },
      "execution_count": null,
      "outputs": []
    },
    {
      "cell_type": "markdown",
      "source": [
        "## Load data to Pandas"
      ],
      "metadata": {
        "id": "mv0gc_EMI6FF"
      }
    },
    {
      "cell_type": "code",
      "source": [
        "df = pds.read_sql(\"select * from \\\"employees\\\"\", conn);"
      ],
      "metadata": {
        "id": "fYLdZ5XnJdc-"
      },
      "execution_count": null,
      "outputs": []
    },
    {
      "cell_type": "markdown",
      "source": [
        "## PreAnalysis:"
      ],
      "metadata": {
        "id": "GnkOQ4QyJqB-"
      }
    },
    {
      "cell_type": "code",
      "source": [
        "df.head()"
      ],
      "metadata": {
        "id": "l4hVo-zKJvcr"
      },
      "execution_count": null,
      "outputs": []
    }
  ]
}